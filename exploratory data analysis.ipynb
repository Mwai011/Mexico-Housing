{
 "cells": [
  {
   "cell_type": "code",
   "execution_count": null,
   "id": "fa786ecd",
   "metadata": {},
   "outputs": [],
   "source": [
    "import matplotlib.pyplot as plt\n",
    "import pandas as pd\n",
    "import plotly.express as px\n",
    "from IPython.display import VimeoVideo"
   ]
  },
  {
   "cell_type": "code",
   "execution_count": null,
   "id": "8ed6197a",
   "metadata": {},
   "outputs": [],
   "source": [
    "# Import \"data/mexico-real-estate-clean.csv\"\n",
    "df = pd.read_csv(\"data/mexico-real-estate-clean.csv\")\n",
    "# Print object type, shape, and head\n",
    "print(\"df type:\", type(df))\n",
    "print(\"df shape:\", df.shape)\n",
    "df.head()"
   ]
  },
  {
   "cell_type": "code",
   "execution_count": null,
   "id": "448d3e93",
   "metadata": {},
   "outputs": [],
   "source": [
    "# Use plotly express to create figure\n",
    "fig = px.scatter_mapbox(\n",
    "    df,  # Our DataFrame\n",
    "    lat=\"lat\",\n",
    "    lon=\"lon\",\n",
    "    center={\"lat\": 19.43, \"lon\": -99.13},  # Map will be centered on Mexico City\n",
    "    width=600,  # Width of map\n",
    "    height=600,  # Height of map\n",
    "    hover_data=[\"price_usd\"],  # Display price when hovering mouse over house\n",
    ")\n",
    "\n",
    "# Add mapbox_style to figure layout\n",
    "fig.update_layout(mapbox_style=\"open-street-map\")\n",
    "\n",
    "# Show figure\n",
    "fig.show()"
   ]
  },
  {
   "cell_type": "code",
   "execution_count": null,
   "id": "acfe41bb",
   "metadata": {},
   "outputs": [],
   "source": [
    "# Get value counts of \"state\" column\n",
    "df[\"state\"].value_counts().head(10)"
   ]
  },
  {
   "cell_type": "code",
   "execution_count": null,
   "id": "3ec5c882",
   "metadata": {},
   "outputs": [],
   "source": [
    "# Describe \"area_m2\", \"price_usd\" columns\n",
    "df[[\"area_m2\", \"price_usd\"]].describe()"
   ]
  },
  {
   "cell_type": "code",
   "execution_count": null,
   "id": "63be8752",
   "metadata": {},
   "outputs": [],
   "source": [
    "# Use Matplotlib to create histogram of \"area_m2\"\n",
    "plt.hist(df['area_m2']);\n",
    "\n",
    "# Add x-axis label\n",
    "plt.xlabel(\"Area [sq meters]\")\n",
    "\n",
    "# Add y-axis label\n",
    "plt.ylabel(\"Frequency\")\n",
    "\n",
    "# Add title\n",
    "plt.title(\"Distribution of Home Sizes\")"
   ]
  },
  {
   "cell_type": "code",
   "execution_count": null,
   "id": "dd9f3df3",
   "metadata": {},
   "outputs": [],
   "source": [
    "# Use Matplotlib to create histogram of \"price_usd\"\n",
    "\n",
    "plt.hist(df[\"price_usd\"]);\n",
    "# Add x-axis label\n",
    "plt.xlabel(\"Price [USD]\")\n",
    "\n",
    "# Add y-axis label\n",
    "plt.ylabel(\"Frequency\")\n",
    "\n",
    "# Add title\n",
    "plt.title(\"Distribution of Home Prices\")"
   ]
  },
  {
   "cell_type": "code",
   "execution_count": null,
   "id": "1b0578bc",
   "metadata": {},
   "outputs": [],
   "source": [
    "# Use Matplotlib to create boxplot of \"price_usd\"\n",
    "\n",
    "plt.boxplot(df[\"price_usd\"], vert=False);\n",
    "# Add x-label axis\n",
    "plt.xlabel(\"Price [USD]\")\n",
    "\n",
    "# Add title\n",
    "plt.title(\"Distribution of Home Prices\")"
   ]
  },
  {
   "cell_type": "code",
   "execution_count": null,
   "id": "d702361d",
   "metadata": {},
   "outputs": [],
   "source": []
  }
 ],
 "metadata": {
  "kernelspec": {
   "display_name": "Python 3 (ipykernel)",
   "language": "python",
   "name": "python3"
  },
  "language_info": {
   "codemirror_mode": {
    "name": "ipython",
    "version": 3
   },
   "file_extension": ".py",
   "mimetype": "text/x-python",
   "name": "python",
   "nbconvert_exporter": "python",
   "pygments_lexer": "ipython3",
   "version": "3.11.4"
  }
 },
 "nbformat": 4,
 "nbformat_minor": 5
}
