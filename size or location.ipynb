{
 "cells": [
  {
   "cell_type": "code",
   "execution_count": null,
   "id": "68867d26",
   "metadata": {},
   "outputs": [],
   "source": [
    "import matplotlib.pyplot as plt\n",
    "import pandas as pd\n",
    "from IPython.display import VimeoVideo"
   ]
  },
  {
   "cell_type": "code",
   "execution_count": null,
   "id": "6ad3e435",
   "metadata": {},
   "outputs": [],
   "source": [
    "# Import \"data/mexico-real-estate-clean.csv\"\n",
    "df = pd.read_csv(\"data/mexico-real-estate-clean.csv\")\n",
    "df.dropna(inplace = False)\n",
    "# Print object type, shape, and head\n",
    "print(\"df type:\", type(df))\n",
    "print(\"df shape:\", df.shape)\n",
    "df.head()"
   ]
  },
  {
   "cell_type": "code",
   "execution_count": null,
   "id": "fbc0b613",
   "metadata": {},
   "outputs": [],
   "source": [
    "# Declare variable `mean_price_by_state`\n",
    "mean_price_by_state = df.groupby(\"state\")[\"price_usd\"].mean().sort_values(ascending=False)\n",
    "\n",
    "#Print object type, shape, and head\n",
    "print(\"mean_price_by_state type:\", type(mean_price_by_state))\n",
    "print(\"mean_price_by_state shape:\", mean_price_by_state.shape)\n",
    "mean_price_by_state"
   ]
  },
  {
   "cell_type": "code",
   "execution_count": null,
   "id": "7524428a",
   "metadata": {},
   "outputs": [],
   "source": [
    "# Create bar chart from `mean_price_by_state` using pandas\n",
    "mean_price_by_state.plot(\n",
    "    kind=\"bar\",\n",
    "    xlabel=\"State\",\n",
    "    ylabel=\"Mean Price [USD]\",\n",
    "    title=\"Mean House Price by State\"\n",
    ");"
   ]
  },
  {
   "cell_type": "code",
   "execution_count": null,
   "id": "9a490dc0",
   "metadata": {},
   "outputs": [],
   "source": [
    "# Create \"price_per_m2\" column\n",
    "df[\"price_per_m2\"] = df[\"price_usd\"] / df[\"area_m2\"]\n",
    "\n",
    "# Print object type, shape, and head\n",
    "print(\"df type:\", type(df))\n",
    "print(\"df shape:\", df.shape)\n",
    "df.head()"
   ]
  },
  {
   "cell_type": "code",
   "execution_count": null,
   "id": "1fd75622",
   "metadata": {},
   "outputs": [],
   "source": [
    "# Group `df` by \"state\", create bar chart of \"price_per_m2\"\n",
    "(\n",
    "    df\n",
    "    .groupby(\"state\")\n",
    "    [\"price_usd\"].mean()\n",
    "    .sort_values(ascending=False)\n",
    "    .plot(\n",
    "        kind=\"bar\",\n",
    "        xlabel=\"State\",\n",
    "        ylabel=\"Mean Price per M^2[USD]\",\n",
    "        title=\"Mean House Price per M^2 by State\",\n",
    "        )\n",
    ");"
   ]
  },
  {
   "cell_type": "code",
   "execution_count": null,
   "id": "4482c7af",
   "metadata": {},
   "outputs": [],
   "source": [
    "# Create scatter plot of \"price_usd\" vs \"area_m2\"\n",
    "plt.scatter(x=df[\"area_m2\"], y=df[\"price_usd\"])\n",
    "\n",
    "# Add x-axis label\n",
    "plt.xlabel(\"Area [sq meters]\")\n",
    "\n",
    "# Add y-axis label\n",
    "plt.ylabel(\"Price [USD]\")\n",
    "\n",
    "# Add title\n",
    "plt.title(\"Price vs Area\")"
   ]
  },
  {
   "cell_type": "code",
   "execution_count": null,
   "id": "a9ce3fd1",
   "metadata": {},
   "outputs": [],
   "source": [
    "# Calculate correlation of \"price_usd\" and \"area_m2\"\n",
    "p_correlation = df[\"area_m2\"].corr(df[\"price_usd\"])\n",
    "\n",
    "# Print correlation coefficient\n",
    "print(\"Correlation of 'area_m2' and 'price_usd' (all Mexico):\", p_correlation)"
   ]
  },
  {
   "cell_type": "code",
   "execution_count": null,
   "id": "9e7719de",
   "metadata": {},
   "outputs": [],
   "source": [
    "# Declare variable `df_morelos` by subsetting `df`\n",
    "df_morelos = df[df[\"state\"] == \"Morelos\"]\n",
    "\n",
    "# Print object type, shape, and head\n",
    "print(\"df_morelos type:\", type(df_morelos))\n",
    "print(\"df_morelos shape:\", df_morelos.shape)\n",
    "df_morelos.head()"
   ]
  },
  {
   "cell_type": "code",
   "execution_count": null,
   "id": "abc75d5f",
   "metadata": {},
   "outputs": [],
   "source": [
    "# Create scatter plot of \"price_usd\" vs \"area_m2\" in Morelos\n",
    "plt.scatter(x=df_morelos[\"area_m2\"], y=df_morelos[\"price_usd\"])\n",
    "\n",
    "# Add x-axis label\n",
    "plt.xlabel(\"Area [sq meters]\")\n",
    "\n",
    "\n",
    "# Add y-axis label\n",
    "plt.ylabel(\"Price [USD]\")\n",
    "\n",
    "# Add title\n",
    "plt.title(\"Morelos: Price vs. Area\")"
   ]
  },
  {
   "cell_type": "code",
   "execution_count": null,
   "id": "710c0ac5",
   "metadata": {},
   "outputs": [],
   "source": [
    "# Calculate correlation of \"price_usd\" and \"area_m2\" in `df_morelos`\n",
    "p_correlation = df_morelos[\"area_m2\"].corr(df_morelos[\"price_usd\"])\n",
    "\n",
    "# Print correlation coefficient\n",
    "print(\"Correlation of 'area_m2' and 'price_usd' (Morelos):\", p_correlation)"
   ]
  },
  {
   "cell_type": "code",
   "execution_count": null,
   "id": "5a5f71f8",
   "metadata": {},
   "outputs": [],
   "source": [
    "# Declare variable `df_mexico_city` by subsetting `df`\n",
    "df_mexico_city = df[df[\"state\"] == \"Distrito Federal\"]\n",
    "\n",
    "# Print object type and shape\n",
    "print(\"df_mexico_city type:\", type(df_mexico_city))\n",
    "print(\"df_mexico_city shape:\", df_mexico_city.shape)\n",
    "\n",
    "# Create a scatter plot \"price_usd\" vs \"area_m2\" in Distrito Federal\n",
    "plt.scatter(df_mexico_city[\"area_m2\"], df_mexico_city[\"price_usd\"])  # REMOVERHS\n",
    "\n",
    "# Add x-axis label\n",
    "plt.xlabel(\"Area [sq meters]\")  # REMOVERHS\n",
    "\n",
    "# Add y-axis label\n",
    "plt.ylabel(\"Price [USD]\")  # REMOVERHS\n",
    "\n",
    "# Add title\n",
    "plt.title(\"Mexico City: Price vs. Area\")  # REMOVERHS\n",
    "\n",
    "# Calculate correlation of \"price_usd\" and \"area_m2\" in `df_mexico_city`\n",
    "p_correlation = df_mexico_city[\"area_m2\"].corr(df_mexico_city[\"price_usd\"])\n",
    "\n",
    "# Print correlation coefficient\n",
    "print(\"Correlation of 'area_m2' and 'price_usd' (Mexico City):\", p_correlation)"
   ]
  }
 ],
 "metadata": {
  "kernelspec": {
   "display_name": "Python 3 (ipykernel)",
   "language": "python",
   "name": "python3"
  },
  "language_info": {
   "codemirror_mode": {
    "name": "ipython",
    "version": 3
   },
   "file_extension": ".py",
   "mimetype": "text/x-python",
   "name": "python",
   "nbconvert_exporter": "python",
   "pygments_lexer": "ipython3",
   "version": "3.11.4"
  }
 },
 "nbformat": 4,
 "nbformat_minor": 5
}
