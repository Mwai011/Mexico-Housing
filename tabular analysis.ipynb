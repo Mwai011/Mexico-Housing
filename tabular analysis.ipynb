{
 "cells": [
  {
   "cell_type": "code",
   "execution_count": 1,
   "id": "c68d51a0",
   "metadata": {},
   "outputs": [
    {
     "name": "stdout",
     "output_type": "stream",
     "text": [
      "house_0_list type: <class 'list'>\n",
      "house_0_list length: 3\n"
     ]
    },
    {
     "data": {
      "text/plain": [
       "[115910.26, 128, 4]"
      ]
     },
     "execution_count": 1,
     "metadata": {},
     "output_type": "execute_result"
    }
   ],
   "source": [
    "# Declare variable `house_0_list`\n",
    "house_0_list = [115910.26, 128, 4]\n",
    "\n",
    "# Print object type of `house_0_list`\n",
    "# (We'll learn more about object types in later projects 😉)\n",
    "print(\"house_0_list type:\", type(house_0_list))\n",
    "\n",
    "# Print length of `house_0_list`\n",
    "print(\"house_0_list length:\", len(house_0_list))\n",
    "\n",
    "# Get output of `house_0_list`\n",
    "house_0_list"
   ]
  },
  {
   "cell_type": "code",
   "execution_count": 2,
   "id": "acc17495",
   "metadata": {},
   "outputs": [
    {
     "name": "stdout",
     "output_type": "stream",
     "text": [
      "house_0_price_m2 type: <class 'float'>\n"
     ]
    },
    {
     "data": {
      "text/plain": [
       "905.54890625"
      ]
     },
     "execution_count": 2,
     "metadata": {},
     "output_type": "execute_result"
    }
   ],
   "source": [
    "# Declare variable `house_0_price_m2`\n",
    "\n",
    "house_0_price_m2 = house_0_list[0] / house_0_list[1]\n",
    "\n",
    "# Print object type of `house_0_price_m2`\n",
    "print(\"house_0_price_m2 type:\", type(house_0_price_m2))\n",
    "\n",
    "# Get output of `house_0_price_m2`\n",
    "house_0_price_m2"
   ]
  },
  {
   "cell_type": "code",
   "execution_count": 3,
   "id": "40a80761",
   "metadata": {},
   "outputs": [
    {
     "name": "stdout",
     "output_type": "stream",
     "text": [
      "house_0_list type: <class 'list'>\n",
      "house_0_list length: 4\n"
     ]
    },
    {
     "data": {
      "text/plain": [
       "[115910.26, 128, 4, 905.54890625]"
      ]
     },
     "execution_count": 3,
     "metadata": {},
     "output_type": "execute_result"
    }
   ],
   "source": [
    "# Append price / sq. meter to `house_0_list`\n",
    "house_0_list.append(house_0_price_m2)\n",
    "\n",
    "# Print object type of `house_0_list`\n",
    "print(\"house_0_list type:\", type(house_0_list))\n",
    "\n",
    "# Print length of `house_0_list`\n",
    "print(\"house_0_list length:\", len(house_0_list))\n",
    "\n",
    "# Get output of `house_0_list`\n",
    "house_0_list"
   ]
  },
  {
   "cell_type": "code",
   "execution_count": 4,
   "id": "22022569",
   "metadata": {},
   "outputs": [
    {
     "name": "stdout",
     "output_type": "stream",
     "text": [
      "houses_nested_list type: <class 'list'>\n",
      "houses_nested_list length: 5\n"
     ]
    },
    {
     "data": {
      "text/plain": [
       "[[115910.26, 128.0, 4.0],\n",
       " [48718.17, 210.0, 3.0],\n",
       " [28977.56, 58.0, 2.0],\n",
       " [36932.27, 79.0, 3.0],\n",
       " [83903.51, 111.0, 3.0]]"
      ]
     },
     "execution_count": 4,
     "metadata": {},
     "output_type": "execute_result"
    }
   ],
   "source": [
    "# Declare variable `houses_nested_list`\n",
    "houses_nested_list = [\n",
    "    [115910.26, 128.0, 4.0],\n",
    "    [48718.17, 210.0, 3.0],\n",
    "    [28977.56, 58.0, 2.0],\n",
    "    [36932.27, 79.0, 3.0],\n",
    "    [83903.51, 111.0, 3.0],\n",
    "]\n",
    "\n",
    "# Print `houses_nested_list` type\n",
    "print(\"houses_nested_list type:\", type(houses_nested_list))\n",
    "\n",
    "# Print `houses_nested_list` length\n",
    "print(\"houses_nested_list length:\", len(houses_nested_list))\n",
    "\n",
    "# Get output of `houses_nested_list`\n",
    "houses_nested_list"
   ]
  },
  {
   "cell_type": "code",
   "execution_count": 5,
   "id": "5a07e63d",
   "metadata": {},
   "outputs": [
    {
     "name": "stdout",
     "output_type": "stream",
     "text": [
      "houses_nested_list type: <class 'list'>\n",
      "houses_nested_list length: 5\n"
     ]
    },
    {
     "data": {
      "text/plain": [
       "[[115910.26, 128.0, 4.0, 905.54890625],\n",
       " [48718.17, 210.0, 3.0, 231.9912857142857],\n",
       " [28977.56, 58.0, 2.0, 499.61310344827587],\n",
       " [36932.27, 79.0, 3.0, 467.4970886075949],\n",
       " [83903.51, 111.0, 3.0, 755.8874774774774]]"
      ]
     },
     "execution_count": 5,
     "metadata": {},
     "output_type": "execute_result"
    }
   ],
   "source": [
    "# Create for loop to iterate through `houses_nested_list`\n",
    "for house in houses_nested_list:\n",
    "    price_m2 = house[0] / house[1]\n",
    "    \n",
    "    # For each observation, append price / sq. meter\n",
    "    house.append(price_m2)\n",
    "\n",
    "# Print `houses_nested_list` type\n",
    "print(\"houses_nested_list type:\", type(houses_nested_list))\n",
    "\n",
    "# Print `houses_nested_list` length\n",
    "print(\"houses_nested_list length:\", len(houses_nested_list))\n",
    "\n",
    "# Get output of `houses_nested_list`\n",
    "houses_nested_list"
   ]
  },
  {
   "cell_type": "code",
   "execution_count": 6,
   "id": "ebc92ff9",
   "metadata": {},
   "outputs": [
    {
     "name": "stdout",
     "output_type": "stream",
     "text": [
      "house_0_dict type: <class 'dict'>\n"
     ]
    },
    {
     "data": {
      "text/plain": [
       "{'price_approx_usd': 115910.26, 'surface_covered_in_m2': 128, 'rooms': 4}"
      ]
     },
     "execution_count": 6,
     "metadata": {},
     "output_type": "execute_result"
    }
   ],
   "source": [
    "# Declare variable `house_0_dict`\n",
    "house_0_dict = {\n",
    "    \"price_approx_usd\": 115910.26,\n",
    "    \"surface_covered_in_m2\": 128,\n",
    "    \"rooms\": 4,\n",
    "}\n",
    "\n",
    "# Print `house_0_dict` type\n",
    "print(\"house_0_dict type:\", type(house_0_dict))\n",
    "\n",
    "# Get output of `house_0_dict`\n",
    "house_0_dict"
   ]
  },
  {
   "cell_type": "code",
   "execution_count": 7,
   "id": "17df00a2",
   "metadata": {},
   "outputs": [
    {
     "data": {
      "text/plain": [
       "{'price_approx_usd': 115910.26,\n",
       " 'surface_covered_in_m2': 128,\n",
       " 'rooms': 4,\n",
       " 'price_per_m2': 905.54890625}"
      ]
     },
     "execution_count": 7,
     "metadata": {},
     "output_type": "execute_result"
    }
   ],
   "source": [
    "# Add \"price_per_m2\" key-value pair to `house_0_dict`\n",
    "house_0_dict[\"price_per_m2\"] = house_0_dict[\"price_approx_usd\"] / house_0_dict[\"surface_covered_in_m2\"]\n",
    "\n",
    "# Get output of `house_0_dict`\n",
    "house_0_dict"
   ]
  },
  {
   "cell_type": "code",
   "execution_count": 8,
   "id": "7fc473fc",
   "metadata": {},
   "outputs": [
    {
     "name": "stdout",
     "output_type": "stream",
     "text": [
      "houses_rowwise type: <class 'list'>\n",
      "houses_rowwise length: 5\n"
     ]
    },
    {
     "data": {
      "text/plain": [
       "[{'price_approx_usd': 115910.26, 'surface_covered_in_m2': 128, 'rooms': 4},\n",
       " {'price_approx_usd': 48718.17, 'surface_covered_in_m2': 210, 'rooms': 3},\n",
       " {'price_approx_usd': 28977.56, 'surface_covered_in_m2': 58, 'rooms': 2},\n",
       " {'price_approx_usd': 36932.27, 'surface_covered_in_m2': 79, 'rooms': 3},\n",
       " {'price_approx_usd': 83903.51, 'surface_covered_in_m2': 111, 'rooms': 3}]"
      ]
     },
     "execution_count": 8,
     "metadata": {},
     "output_type": "execute_result"
    }
   ],
   "source": [
    "# Declare variable `houses_rowwise`\n",
    "houses_rowwise = [\n",
    "    {\n",
    "        \"price_approx_usd\": 115910.26,\n",
    "        \"surface_covered_in_m2\": 128,\n",
    "        \"rooms\": 4,\n",
    "    },\n",
    "    {\n",
    "        \"price_approx_usd\": 48718.17,\n",
    "        \"surface_covered_in_m2\": 210,\n",
    "        \"rooms\": 3,\n",
    "    },\n",
    "    {\n",
    "        \"price_approx_usd\": 28977.56,\n",
    "        \"surface_covered_in_m2\": 58,\n",
    "        \"rooms\": 2,\n",
    "    },\n",
    "    {\n",
    "        \"price_approx_usd\": 36932.27,\n",
    "        \"surface_covered_in_m2\": 79,\n",
    "        \"rooms\": 3,\n",
    "    },\n",
    "    {\n",
    "        \"price_approx_usd\": 83903.51,\n",
    "        \"surface_covered_in_m2\": 111,\n",
    "        \"rooms\": 3,\n",
    "    },\n",
    "]\n",
    "\n",
    "# Print `houses_rowwise` object type\n",
    "print(\"houses_rowwise type:\", type(houses_rowwise))\n",
    "\n",
    "# Print `houses_rowwise` length\n",
    "print(\"houses_rowwise length:\", len(houses_rowwise))\n",
    "\n",
    "# Get output of `houses_rowwise`\n",
    "houses_rowwise"
   ]
  },
  {
   "cell_type": "code",
   "execution_count": 9,
   "id": "0c23b854",
   "metadata": {},
   "outputs": [
    {
     "name": "stdout",
     "output_type": "stream",
     "text": [
      "houses_rowwise type: <class 'list'>\n",
      "houses_rowwise length: 5\n"
     ]
    },
    {
     "data": {
      "text/plain": [
       "[{'price_approx_usd': 115910.26, 'surface_covered_in_m2': 128, 'rooms': 4},\n",
       " {'price_approx_usd': 48718.17, 'surface_covered_in_m2': 210, 'rooms': 3},\n",
       " {'price_approx_usd': 28977.56, 'surface_covered_in_m2': 58, 'rooms': 2},\n",
       " {'price_approx_usd': 36932.27, 'surface_covered_in_m2': 79, 'rooms': 3},\n",
       " {'price_approx_usd': 83903.51, 'surface_covered_in_m2': 111, 'rooms': 3}]"
      ]
     },
     "execution_count": 9,
     "metadata": {},
     "output_type": "execute_result"
    }
   ],
   "source": [
    "# Create for loop to iterate through `houses_rowwise`\n",
    "\n",
    "    # For each observation, add \"price_per_m2\" key-value pair\n",
    "    \n",
    "\n",
    "# Print `houses_rowwise` object type\n",
    "print(\"houses_rowwise type:\", type(houses_rowwise))\n",
    "\n",
    "# Print `houses_rowwise` length\n",
    "print(\"houses_rowwise length:\", len(houses_rowwise))\n",
    "\n",
    "# Get output of `houses_rowwise`\n",
    "houses_rowwise"
   ]
  },
  {
   "cell_type": "code",
   "execution_count": 10,
   "id": "e5730703",
   "metadata": {},
   "outputs": [
    {
     "name": "stdout",
     "output_type": "stream",
     "text": [
      "mean_house_price type: <class 'float'>\n"
     ]
    },
    {
     "data": {
      "text/plain": [
       "62888.35399999999"
      ]
     },
     "execution_count": 10,
     "metadata": {},
     "output_type": "execute_result"
    }
   ],
   "source": [
    "# Declare `house_prices` as empty list\n",
    "house_prices = []\n",
    "\n",
    "# Iterate through `houses_rowwise`\n",
    "for house in houses_rowwise :\n",
    "    # For each house, append \"price_approx_usd\" to `house_prices`\n",
    "    house_prices.append(house[\"price_approx_usd\"])\n",
    "house_prices\n",
    "# Calculate `mean_house_price` using `house_prices`\n",
    "mean_house_price = sum(house_prices) / len(house_prices)\n",
    "\n",
    "# Print `mean_house_price` object type\n",
    "print(\"mean_house_price type:\", type(mean_house_price))\n",
    "\n",
    "# Get output of `mean_house_price`\n",
    "mean_house_price"
   ]
  },
  {
   "cell_type": "code",
   "execution_count": 11,
   "id": "172f1fb6",
   "metadata": {},
   "outputs": [
    {
     "name": "stdout",
     "output_type": "stream",
     "text": [
      "houses_columnwise type: <class 'dict'>\n"
     ]
    },
    {
     "data": {
      "text/plain": [
       "{'price_approx_usd': [115910.26, 48718.17, 28977.56, 36932.27, 83903.51],\n",
       " 'surface_covered_in_m2': [128.0, 210.0, 58.0, 79.0, 111.0],\n",
       " 'rooms': [4.0, 3.0, 2.0, 3.0, 3.0]}"
      ]
     },
     "execution_count": 11,
     "metadata": {},
     "output_type": "execute_result"
    }
   ],
   "source": [
    "# Declare variable `houses_columnwise`\n",
    "houses_columnwise = {\n",
    "    \"price_approx_usd\": [115910.26, 48718.17, 28977.56, 36932.27, 83903.51],\n",
    "    \"surface_covered_in_m2\": [128.0, 210.0, 58.0, 79.0, 111.0],\n",
    "    \"rooms\": [4.0, 3.0, 2.0, 3.0, 3.0],\n",
    "}\n",
    "\n",
    "# Print `houses_columnwise` object type\n",
    "print(\"houses_columnwise type:\", type(houses_columnwise))\n",
    "\n",
    "# Get output of `houses_columnwise`\n",
    "houses_columnwise"
   ]
  },
  {
   "cell_type": "code",
   "execution_count": 12,
   "id": "e0fca840",
   "metadata": {},
   "outputs": [
    {
     "name": "stdout",
     "output_type": "stream",
     "text": [
      "mean_house_price type: <class 'float'>\n"
     ]
    },
    {
     "data": {
      "text/plain": [
       "62888.35399999999"
      ]
     },
     "execution_count": 12,
     "metadata": {},
     "output_type": "execute_result"
    }
   ],
   "source": [
    "# Calculate `mean_house_price` using `houses_columnwise`\n",
    "mean_house_price = sum(houses_columnwise[\"price_approx_usd\"]) / len(houses_columnwise[\"price_approx_usd\"])\n",
    "\n",
    "# Print `mean_house_price` object type\n",
    "print(\"mean_house_price type:\", type(mean_house_price))\n",
    "\n",
    "# Get output of `mean_house_price`\n",
    "mean_house_price"
   ]
  },
  {
   "cell_type": "code",
   "execution_count": 13,
   "id": "7551069c",
   "metadata": {},
   "outputs": [
    {
     "name": "stdout",
     "output_type": "stream",
     "text": [
      "houses_columnwise type: <class 'dict'>\n"
     ]
    },
    {
     "data": {
      "text/plain": [
       "{'price_approx_usd': [115910.26, 48718.17, 28977.56, 36932.27, 83903.51],\n",
       " 'surface_covered_in_m2': [128.0, 210.0, 58.0, 79.0, 111.0],\n",
       " 'rooms': [4.0, 3.0, 2.0, 3.0, 3.0],\n",
       " 'price_per_m2': [905.54890625,\n",
       "  231.9912857142857,\n",
       "  499.61310344827587,\n",
       "  467.4970886075949,\n",
       "  755.8874774774774]}"
      ]
     },
     "execution_count": 13,
     "metadata": {},
     "output_type": "execute_result"
    }
   ],
   "source": [
    "price = houses_columnwise[\"price_approx_usd\"]\n",
    "area = houses_columnwise[\"surface_covered_in_m2\"]\n",
    "price_per_m2 = []\n",
    "for p, a in zip(price, area) :\n",
    "    price_m2 = p / a\n",
    "    price_per_m2.append(price_m2)\n",
    "# Add \"price_per_m2\" key-value pair for `houses_columnwise`\n",
    "houses_columnwise[\"price_per_m2\"] = price_per_m2\n",
    "\n",
    "# Print `houses_columnwise` object type\n",
    "print(\"houses_columnwise type:\", type(houses_columnwise))\n",
    "\n",
    "# Get output of `houses_columnwise`\n",
    "houses_columnwise"
   ]
  },
  {
   "cell_type": "code",
   "execution_count": 14,
   "id": "1406aeb3",
   "metadata": {},
   "outputs": [
    {
     "name": "stdout",
     "output_type": "stream",
     "text": [
      "df_houses type: <class 'pandas.core.frame.DataFrame'>\n",
      "df_houses shape: (5, 4)\n"
     ]
    },
    {
     "data": {
      "text/html": [
       "<div>\n",
       "<style scoped>\n",
       "    .dataframe tbody tr th:only-of-type {\n",
       "        vertical-align: middle;\n",
       "    }\n",
       "\n",
       "    .dataframe tbody tr th {\n",
       "        vertical-align: top;\n",
       "    }\n",
       "\n",
       "    .dataframe thead th {\n",
       "        text-align: right;\n",
       "    }\n",
       "</style>\n",
       "<table border=\"1\" class=\"dataframe\">\n",
       "  <thead>\n",
       "    <tr style=\"text-align: right;\">\n",
       "      <th></th>\n",
       "      <th>price_approx_usd</th>\n",
       "      <th>surface_covered_in_m2</th>\n",
       "      <th>rooms</th>\n",
       "      <th>price_per_m2</th>\n",
       "    </tr>\n",
       "  </thead>\n",
       "  <tbody>\n",
       "    <tr>\n",
       "      <th>0</th>\n",
       "      <td>115910.26</td>\n",
       "      <td>128.0</td>\n",
       "      <td>4.0</td>\n",
       "      <td>905.548906</td>\n",
       "    </tr>\n",
       "    <tr>\n",
       "      <th>1</th>\n",
       "      <td>48718.17</td>\n",
       "      <td>210.0</td>\n",
       "      <td>3.0</td>\n",
       "      <td>231.991286</td>\n",
       "    </tr>\n",
       "    <tr>\n",
       "      <th>2</th>\n",
       "      <td>28977.56</td>\n",
       "      <td>58.0</td>\n",
       "      <td>2.0</td>\n",
       "      <td>499.613103</td>\n",
       "    </tr>\n",
       "    <tr>\n",
       "      <th>3</th>\n",
       "      <td>36932.27</td>\n",
       "      <td>79.0</td>\n",
       "      <td>3.0</td>\n",
       "      <td>467.497089</td>\n",
       "    </tr>\n",
       "    <tr>\n",
       "      <th>4</th>\n",
       "      <td>83903.51</td>\n",
       "      <td>111.0</td>\n",
       "      <td>3.0</td>\n",
       "      <td>755.887477</td>\n",
       "    </tr>\n",
       "  </tbody>\n",
       "</table>\n",
       "</div>"
      ],
      "text/plain": [
       "   price_approx_usd  surface_covered_in_m2  rooms  price_per_m2\n",
       "0         115910.26                  128.0    4.0    905.548906\n",
       "1          48718.17                  210.0    3.0    231.991286\n",
       "2          28977.56                   58.0    2.0    499.613103\n",
       "3          36932.27                   79.0    3.0    467.497089\n",
       "4          83903.51                  111.0    3.0    755.887477"
      ]
     },
     "execution_count": 14,
     "metadata": {},
     "output_type": "execute_result"
    }
   ],
   "source": [
    "# Import pandas library, aliased as `pd`\n",
    "import pandas as pd\n",
    "\n",
    "# Declare variable `df_houses`\n",
    "df_houses = pd.DataFrame(houses_columnwise)\n",
    "\n",
    "# Print `df_houses` object type\n",
    "print(\"df_houses type:\", type(df_houses))\n",
    "\n",
    "# Print `df_houses` shape\n",
    "print(\"df_houses shape:\", df_houses.shape)\n",
    "\n",
    "# Get output of `df_houses`\n",
    "df_houses"
   ]
  },
  {
   "cell_type": "code",
   "execution_count": null,
   "id": "1704578b",
   "metadata": {},
   "outputs": [],
   "source": []
  }
 ],
 "metadata": {
  "kernelspec": {
   "display_name": "Python 3 (ipykernel)",
   "language": "python",
   "name": "python3"
  },
  "language_info": {
   "codemirror_mode": {
    "name": "ipython",
    "version": 3
   },
   "file_extension": ".py",
   "mimetype": "text/x-python",
   "name": "python",
   "nbconvert_exporter": "python",
   "pygments_lexer": "ipython3",
   "version": "3.11.4"
  }
 },
 "nbformat": 4,
 "nbformat_minor": 5
}
